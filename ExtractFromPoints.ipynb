{
 "cells": [
  {
   "cell_type": "code",
   "execution_count": 1,
   "id": "58b0f7ef",
   "metadata": {},
   "outputs": [],
   "source": [
    "import ee\n",
    "import geemap\n",
    "import os"
   ]
  },
  {
   "cell_type": "code",
   "execution_count": 2,
   "id": "c96f8d70",
   "metadata": {},
   "outputs": [],
   "source": [
    "inPoints = \"/home/nedhorning/RegenNetwork/Soils/GlobalData/points_carbon_sequestration_gisel/points_carbon_sequestration_gisel_v2.shp\""
   ]
  },
  {
   "cell_type": "code",
   "execution_count": 3,
   "id": "b0075756",
   "metadata": {},
   "outputs": [],
   "source": [
    "outShapefile = \"/home/nedhorning/RegenNetwork/Soils/GlobalData/points_carbon_sequestration_gisel/silt_v3.shp\""
   ]
  },
  {
   "cell_type": "code",
   "execution_count": 4,
   "id": "6722c182",
   "metadata": {},
   "outputs": [
    {
     "data": {
      "application/vnd.jupyter.widget-view+json": {
       "model_id": "773ed71433d14726b5f550dacc345e0f",
       "version_major": 2,
       "version_minor": 0
      },
      "text/plain": [
       "Map(center=[40, -100], controls=(WidgetControl(options=['position', 'transparent_bg'], widget=HBox(children=(T…"
      ]
     },
     "metadata": {},
     "output_type": "display_data"
    }
   ],
   "source": [
    "Map = geemap.Map()\n",
    "Map"
   ]
  },
  {
   "cell_type": "code",
   "execution_count": 5,
   "id": "42502693",
   "metadata": {},
   "outputs": [],
   "source": [
    "image = ee.Image(\"projects/soilgrids-isric/silt_mean\")\n",
    "#image = image.select('elevation');\n",
    "vis_params = {\n",
    "  'min': 20,\n",
    "  'max': 760,\n",
    "  'bands': ['silt_5-15cm_mean'],\n",
    "  'palette': ['0b1eff', '4be450', 'fffca4', 'ffa011', 'ff0000'],}\n",
    "Map.setCenter(-105.8636, 40.3439, 11);\n",
    "Map.addLayer(image, vis_params, \"Silt\")\n",
    "\n"
   ]
  },
  {
   "cell_type": "code",
   "execution_count": 6,
   "id": "7011674f",
   "metadata": {},
   "outputs": [],
   "source": [
    "\n",
    "points = geemap.shp_to_ee(inPoints)\n",
    "Map.addLayer(points, {}, 'Soil points')\n"
   ]
  },
  {
   "cell_type": "code",
   "execution_count": 7,
   "id": "3c7ccc92",
   "metadata": {},
   "outputs": [
    {
     "name": "stdout",
     "output_type": "stream",
     "text": [
      "Generating URL ...\n",
      "Downloading data from https://earthengine.googleapis.com/v1alpha/projects/earthengine-legacy/tables/611560925effedf1ce8564a673232499-65d1b14369b59301669b83385bff5fe3:getFeatures\n",
      "Please wait ...\n",
      "Data downloaded to /home/nedhorning/RegenNetwork/Soils/GlobalData/points_carbon_sequestration_gisel/silt_v3.shp\n"
     ]
    }
   ],
   "source": [
    "geemap.extract_values_to_points(points, image, outShapefile)"
   ]
  },
  {
   "cell_type": "code",
   "execution_count": null,
   "id": "ac0e0221",
   "metadata": {},
   "outputs": [],
   "source": []
  }
 ],
 "metadata": {
  "kernelspec": {
   "display_name": "Python 3",
   "language": "python",
   "name": "python3"
  },
  "language_info": {
   "codemirror_mode": {
    "name": "ipython",
    "version": 3
   },
   "file_extension": ".py",
   "mimetype": "text/x-python",
   "name": "python",
   "nbconvert_exporter": "python",
   "pygments_lexer": "ipython3",
   "version": "3.8.10"
  }
 },
 "nbformat": 4,
 "nbformat_minor": 5
}
